{
 "cells": [
  {
   "cell_type": "markdown",
   "id": "bfc5a9de",
   "metadata": {},
   "source": [
    "# Exercise 3:\n",
    "\n",
    "Use and experience methods from previous lessons with given data. Try to search for other pandas methods to analyze the data such as `groupby()` and `query()`. Write functions for repetitive tasks.\n",
    "\n",
    "TODOs:\n",
    "- See the spread of pandemic in different countries.\n",
    "- Plot graphs for Reproduction Rate for different countries side by side or in the same graph.\n",
    "- Check correlation between deaths and recoveries.\n",
    "- Compare recoveries between countries.\n",
    "- Are there any outliers (anomalies)?\n",
    "\n",
    "[Pandas User Guide](https://pandas.pydata.org/docs/user_guide/index.html)"
   ]
  },
  {
   "cell_type": "code",
   "execution_count": null,
   "id": "1429b453",
   "metadata": {},
   "outputs": [],
   "source": [
    "# You can find covid related data under project's data folder \n",
    "base_url = \"../data/covid/\"\n",
    "infected_dataset_url = base_url + \"time_series_covid19_confirmed_global.csv\"\n",
    "recovered_dataset_url = base_url + \"time_series_covid19_recovered_global.csv\"\n",
    "deaths_dataset_url = base_url + \"time_series_covid19_deaths_global.csv\""
   ]
  }
 ],
 "metadata": {
  "kernelspec": {
   "display_name": "Python 3",
   "language": "python",
   "name": "python3"
  },
  "language_info": {
   "codemirror_mode": {
    "name": "ipython",
    "version": 3
   },
   "file_extension": ".py",
   "mimetype": "text/x-python",
   "name": "python",
   "nbconvert_exporter": "python",
   "pygments_lexer": "ipython3",
   "version": "3.10.13"
  }
 },
 "nbformat": 4,
 "nbformat_minor": 5
}
