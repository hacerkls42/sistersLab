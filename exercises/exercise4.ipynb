{
 "cells": [
  {
   "cell_type": "markdown",
   "id": "de7ba629",
   "metadata": {},
   "source": [
    "# Exercise:\n",
    "Get information from webpage with beautiful soup.\n",
    "\n",
    "- https://www.crummy.com/software/BeautifulSoup/bs4/doc/\n",
    "- https://www.geeksforgeeks.org/python-web-scraping-tutorial/?ref=lbp\n",
    "- Get the links with python job posts from this page: https://realpython.github.io/fake-jobs/\n",
    "- Visualize all job types and/or other available info in the page.\n",
    "- (Optinal) Get another info from website you've chosen, If you have more time for this study."
   ]
  },
  {
   "cell_type": "code",
   "execution_count": 2,
   "id": "2e01d68c",
   "metadata": {},
   "outputs": [],
   "source": [
    "import requests\n",
    "from bs4 import BeautifulSoup\n",
    "import pandas as pd"
   ]
  },
  {
   "cell_type": "code",
   "execution_count": 4,
   "id": "7996f494",
   "metadata": {},
   "outputs": [],
   "source": [
    "url = \"https://realpython.github.io/fake-jobs/\"\n",
    "page = requests.get(url)"
   ]
  },
  {
   "cell_type": "code",
   "execution_count": 5,
   "id": "62b30b6b",
   "metadata": {},
   "outputs": [],
   "source": [
    "soup = BeautifulSoup(page.content, \"html.parser\")\n",
    "# added .content to avoid problems with character encoding."
   ]
  },
  {
   "cell_type": "code",
   "execution_count": 7,
   "id": "9a9e8de8",
   "metadata": {},
   "outputs": [
    {
     "name": "stdout",
     "output_type": "stream",
     "text": [
      "100 adet iş ilanı bulundu.\n"
     ]
    }
   ],
   "source": [
    "job_cards = soup.find_all(\"div\", class_=\"card-content\")\n",
    "print(f\"{len(job_cards)} adet iş ilanı bulundu.\")\n"
   ]
  },
  {
   "cell_type": "code",
   "execution_count": 21,
   "id": "7d55754f",
   "metadata": {},
   "outputs": [],
   "source": [
    "python_jobs = []\n",
    "\n",
    "\n",
    "for job in job_cards:\n",
    "    title = job.find(\"h2\", class_=\"title\").text.strip()\n",
    "\n",
    "    if \"python\" in title.lower():\n",
    "        company = job.find(\"h3\", class_=\"company\").text.strip()\n",
    "        location = job.find(\"p\", class_=\"location\").text.strip()\n",
    "        link = job.find_all(\"a\")[-1][\"href\"]\n",
    "\n",
    "        python_jobs.append({\n",
    "            \"Title\": title,\n",
    "            \"Company\": company,\n",
    "            \"Location\": location,\n",
    "            \"Link\": link\n",
    "        })"
   ]
  },
  {
   "cell_type": "code",
   "execution_count": 23,
   "id": "9f4f7aba",
   "metadata": {},
   "outputs": [
    {
     "data": {
      "text/html": [
       "<div>\n",
       "<style scoped>\n",
       "    .dataframe tbody tr th:only-of-type {\n",
       "        vertical-align: middle;\n",
       "    }\n",
       "\n",
       "    .dataframe tbody tr th {\n",
       "        vertical-align: top;\n",
       "    }\n",
       "\n",
       "    .dataframe thead th {\n",
       "        text-align: right;\n",
       "    }\n",
       "</style>\n",
       "<table border=\"1\" class=\"dataframe\">\n",
       "  <thead>\n",
       "    <tr style=\"text-align: right;\">\n",
       "      <th></th>\n",
       "      <th>Title</th>\n",
       "      <th>Company</th>\n",
       "      <th>Location</th>\n",
       "      <th>Link</th>\n",
       "    </tr>\n",
       "  </thead>\n",
       "  <tbody>\n",
       "    <tr>\n",
       "      <th>0</th>\n",
       "      <td>Senior Python Developer</td>\n",
       "      <td>Payne, Roberts and Davis</td>\n",
       "      <td>Stewartbury, AA</td>\n",
       "      <td>https://realpython.github.io/fake-jobs/jobs/se...</td>\n",
       "    </tr>\n",
       "    <tr>\n",
       "      <th>1</th>\n",
       "      <td>Software Engineer (Python)</td>\n",
       "      <td>Garcia PLC</td>\n",
       "      <td>Ericberg, AE</td>\n",
       "      <td>https://realpython.github.io/fake-jobs/jobs/so...</td>\n",
       "    </tr>\n",
       "    <tr>\n",
       "      <th>2</th>\n",
       "      <td>Python Programmer (Entry-Level)</td>\n",
       "      <td>Moss, Duncan and Allen</td>\n",
       "      <td>Port Sara, AE</td>\n",
       "      <td>https://realpython.github.io/fake-jobs/jobs/py...</td>\n",
       "    </tr>\n",
       "    <tr>\n",
       "      <th>3</th>\n",
       "      <td>Python Programmer (Entry-Level)</td>\n",
       "      <td>Cooper and Sons</td>\n",
       "      <td>West Victor, AE</td>\n",
       "      <td>https://realpython.github.io/fake-jobs/jobs/py...</td>\n",
       "    </tr>\n",
       "    <tr>\n",
       "      <th>4</th>\n",
       "      <td>Software Developer (Python)</td>\n",
       "      <td>Adams-Brewer</td>\n",
       "      <td>Brockburgh, AE</td>\n",
       "      <td>https://realpython.github.io/fake-jobs/jobs/so...</td>\n",
       "    </tr>\n",
       "  </tbody>\n",
       "</table>\n",
       "</div>"
      ],
      "text/plain": [
       "                             Title                   Company         Location  \\\n",
       "0          Senior Python Developer  Payne, Roberts and Davis  Stewartbury, AA   \n",
       "1       Software Engineer (Python)                Garcia PLC     Ericberg, AE   \n",
       "2  Python Programmer (Entry-Level)    Moss, Duncan and Allen    Port Sara, AE   \n",
       "3  Python Programmer (Entry-Level)           Cooper and Sons  West Victor, AE   \n",
       "4      Software Developer (Python)              Adams-Brewer   Brockburgh, AE   \n",
       "\n",
       "                                                Link  \n",
       "0  https://realpython.github.io/fake-jobs/jobs/se...  \n",
       "1  https://realpython.github.io/fake-jobs/jobs/so...  \n",
       "2  https://realpython.github.io/fake-jobs/jobs/py...  \n",
       "3  https://realpython.github.io/fake-jobs/jobs/py...  \n",
       "4  https://realpython.github.io/fake-jobs/jobs/so...  "
      ]
     },
     "execution_count": 23,
     "metadata": {},
     "output_type": "execute_result"
    }
   ],
   "source": [
    "df = pd.DataFrame(python_jobs)\n",
    "df.head()"
   ]
  },
  {
   "cell_type": "code",
   "execution_count": 29,
   "id": "4fc84e40",
   "metadata": {},
   "outputs": [],
   "source": [
    "python_jobs = []\n",
    "\n",
    "\n",
    "for job in job_cards:\n",
    "    title = job.find(\"h2\", class_=\"title\").text.strip()\n",
    "\n",
    "    if \"python\" in title.lower():\n",
    "        company = job.find(\"h3\", class_=\"company\").text.strip()\n",
    "        location = job.find(\"p\", class_=\"location\").text.strip()\n",
    "        \n",
    "\n",
    "        python_jobs.append({\n",
    "            \"Title\": title,\n",
    "            \"Company\": company,\n",
    "            \"Location\": location,\n",
    "            \n",
    "        })"
   ]
  },
  {
   "cell_type": "code",
   "execution_count": 36,
   "id": "06477f6e",
   "metadata": {},
   "outputs": [
    {
     "data": {
      "text/html": [
       "<div>\n",
       "<style scoped>\n",
       "    .dataframe tbody tr th:only-of-type {\n",
       "        vertical-align: middle;\n",
       "    }\n",
       "\n",
       "    .dataframe tbody tr th {\n",
       "        vertical-align: top;\n",
       "    }\n",
       "\n",
       "    .dataframe thead th {\n",
       "        text-align: right;\n",
       "    }\n",
       "</style>\n",
       "<table border=\"1\" class=\"dataframe\">\n",
       "  <thead>\n",
       "    <tr style=\"text-align: right;\">\n",
       "      <th></th>\n",
       "      <th>Title</th>\n",
       "      <th>Company</th>\n",
       "      <th>Location</th>\n",
       "    </tr>\n",
       "  </thead>\n",
       "  <tbody>\n",
       "    <tr>\n",
       "      <th>1</th>\n",
       "      <td>Senior Python Developer</td>\n",
       "      <td>Payne, Roberts and Davis</td>\n",
       "      <td>Stewartbury, AA</td>\n",
       "    </tr>\n",
       "    <tr>\n",
       "      <th>2</th>\n",
       "      <td>Software Engineer (Python)</td>\n",
       "      <td>Garcia PLC</td>\n",
       "      <td>Ericberg, AE</td>\n",
       "    </tr>\n",
       "    <tr>\n",
       "      <th>3</th>\n",
       "      <td>Python Programmer (Entry-Level)</td>\n",
       "      <td>Moss, Duncan and Allen</td>\n",
       "      <td>Port Sara, AE</td>\n",
       "    </tr>\n",
       "    <tr>\n",
       "      <th>4</th>\n",
       "      <td>Python Programmer (Entry-Level)</td>\n",
       "      <td>Cooper and Sons</td>\n",
       "      <td>West Victor, AE</td>\n",
       "    </tr>\n",
       "    <tr>\n",
       "      <th>5</th>\n",
       "      <td>Software Developer (Python)</td>\n",
       "      <td>Adams-Brewer</td>\n",
       "      <td>Brockburgh, AE</td>\n",
       "    </tr>\n",
       "  </tbody>\n",
       "</table>\n",
       "</div>"
      ],
      "text/plain": [
       "                             Title                   Company         Location\n",
       "1          Senior Python Developer  Payne, Roberts and Davis  Stewartbury, AA\n",
       "2       Software Engineer (Python)                Garcia PLC     Ericberg, AE\n",
       "3  Python Programmer (Entry-Level)    Moss, Duncan and Allen    Port Sara, AE\n",
       "4  Python Programmer (Entry-Level)           Cooper and Sons  West Victor, AE\n",
       "5      Software Developer (Python)              Adams-Brewer   Brockburgh, AE"
      ]
     },
     "execution_count": 36,
     "metadata": {},
     "output_type": "execute_result"
    }
   ],
   "source": [
    "df = pd.DataFrame(python_jobs)\n",
    "df.index = range(1, len(df) + 1)\n",
    "df.head()"
   ]
  },
  {
   "cell_type": "code",
   "execution_count": null,
   "id": "f46a71c2",
   "metadata": {},
   "outputs": [
    {
     "data": {
      "text/html": [
       "<div>\n",
       "<style scoped>\n",
       "    .dataframe tbody tr th:only-of-type {\n",
       "        vertical-align: middle;\n",
       "    }\n",
       "\n",
       "    .dataframe tbody tr th {\n",
       "        vertical-align: top;\n",
       "    }\n",
       "\n",
       "    .dataframe thead th {\n",
       "        text-align: right;\n",
       "    }\n",
       "</style>\n",
       "<table border=\"1\" class=\"dataframe\">\n",
       "  <thead>\n",
       "    <tr style=\"text-align: right;\">\n",
       "      <th></th>\n",
       "      <th>Title</th>\n",
       "      <th>Company</th>\n",
       "      <th>Location</th>\n",
       "    </tr>\n",
       "  </thead>\n",
       "  <tbody>\n",
       "    <tr>\n",
       "      <th>1</th>\n",
       "      <td>Senior Python Developer</td>\n",
       "      <td>Payne, Roberts and Davis</td>\n",
       "      <td>Stewartbury, AA</td>\n",
       "    </tr>\n",
       "    <tr>\n",
       "      <th>2</th>\n",
       "      <td>Software Engineer (Python)</td>\n",
       "      <td>Garcia PLC</td>\n",
       "      <td>Ericberg, AE</td>\n",
       "    </tr>\n",
       "    <tr>\n",
       "      <th>3</th>\n",
       "      <td>Python Programmer (Entry-Level)</td>\n",
       "      <td>Moss, Duncan and Allen</td>\n",
       "      <td>Port Sara, AE</td>\n",
       "    </tr>\n",
       "    <tr>\n",
       "      <th>4</th>\n",
       "      <td>Python Programmer (Entry-Level)</td>\n",
       "      <td>Cooper and Sons</td>\n",
       "      <td>West Victor, AE</td>\n",
       "    </tr>\n",
       "    <tr>\n",
       "      <th>5</th>\n",
       "      <td>Software Developer (Python)</td>\n",
       "      <td>Adams-Brewer</td>\n",
       "      <td>Brockburgh, AE</td>\n",
       "    </tr>\n",
       "    <tr>\n",
       "      <th>6</th>\n",
       "      <td>Python Developer</td>\n",
       "      <td>Rivera and Sons</td>\n",
       "      <td>East Michaelfort, AA</td>\n",
       "    </tr>\n",
       "    <tr>\n",
       "      <th>7</th>\n",
       "      <td>Back-End Web Developer (Python, Django)</td>\n",
       "      <td>Stewart-Alexander</td>\n",
       "      <td>South Kimberly, AA</td>\n",
       "    </tr>\n",
       "    <tr>\n",
       "      <th>8</th>\n",
       "      <td>Back-End Web Developer (Python, Django)</td>\n",
       "      <td>Jackson, Ali and Mckee</td>\n",
       "      <td>New Elizabethside, AA</td>\n",
       "    </tr>\n",
       "    <tr>\n",
       "      <th>9</th>\n",
       "      <td>Python Programmer (Entry-Level)</td>\n",
       "      <td>Mathews Inc</td>\n",
       "      <td>Robertborough, AP</td>\n",
       "    </tr>\n",
       "    <tr>\n",
       "      <th>10</th>\n",
       "      <td>Software Developer (Python)</td>\n",
       "      <td>Moreno-Rodriguez</td>\n",
       "      <td>Martinezburgh, AE</td>\n",
       "    </tr>\n",
       "  </tbody>\n",
       "</table>\n",
       "</div>"
      ],
      "text/plain": [
       "                                      Title                   Company  \\\n",
       "1                   Senior Python Developer  Payne, Roberts and Davis   \n",
       "2                Software Engineer (Python)                Garcia PLC   \n",
       "3           Python Programmer (Entry-Level)    Moss, Duncan and Allen   \n",
       "4           Python Programmer (Entry-Level)           Cooper and Sons   \n",
       "5               Software Developer (Python)              Adams-Brewer   \n",
       "6                          Python Developer           Rivera and Sons   \n",
       "7   Back-End Web Developer (Python, Django)         Stewart-Alexander   \n",
       "8   Back-End Web Developer (Python, Django)    Jackson, Ali and Mckee   \n",
       "9           Python Programmer (Entry-Level)               Mathews Inc   \n",
       "10              Software Developer (Python)          Moreno-Rodriguez   \n",
       "\n",
       "                 Location  \n",
       "1         Stewartbury, AA  \n",
       "2            Ericberg, AE  \n",
       "3           Port Sara, AE  \n",
       "4         West Victor, AE  \n",
       "5          Brockburgh, AE  \n",
       "6    East Michaelfort, AA  \n",
       "7      South Kimberly, AA  \n",
       "8   New Elizabethside, AA  \n",
       "9       Robertborough, AP  \n",
       "10      Martinezburgh, AE  "
      ]
     },
     "execution_count": 39,
     "metadata": {},
     "output_type": "execute_result"
    }
   ],
   "source": [
    "pyton2_jobs = df[df[\"Title\"].str.contains(\"python\", case=False)]\n",
    "pyton2_jobs"
   ]
  },
  {
   "cell_type": "code",
   "execution_count": 42,
   "id": "33cc654f",
   "metadata": {},
   "outputs": [
    {
     "data": {
      "text/plain": [
       "Location\n",
       "Stewartbury, AA          1\n",
       "Ericberg, AE             1\n",
       "Port Sara, AE            1\n",
       "West Victor, AE          1\n",
       "Brockburgh, AE           1\n",
       "East Michaelfort, AA     1\n",
       "South Kimberly, AA       1\n",
       "New Elizabethside, AA    1\n",
       "Robertborough, AP        1\n",
       "Martinezburgh, AE        1\n",
       "Name: count, dtype: int64"
      ]
     },
     "execution_count": 42,
     "metadata": {},
     "output_type": "execute_result"
    }
   ],
   "source": [
    "top_10_locations = df[\"Location\"].value_counts().head(10)\n",
    "top_10_locations\n"
   ]
  },
  {
   "cell_type": "code",
   "execution_count": 44,
   "id": "1d0d1179",
   "metadata": {},
   "outputs": [
    {
     "name": "stdout",
     "output_type": "stream",
     "text": [
      "Title\n",
      "Python Programmer (Entry-Level)            3\n",
      "Software Developer (Python)                2\n",
      "Back-End Web Developer (Python, Django)    2\n",
      "Senior Python Developer                    1\n",
      "Software Engineer (Python)                 1\n",
      "Python Developer                           1\n",
      "Name: count, dtype: int64\n"
     ]
    }
   ],
   "source": [
    "top_10_locations = df[\"Title\"].value_counts().head(10)\n",
    "print(top_10_locations)"
   ]
  },
  {
   "cell_type": "code",
   "execution_count": 49,
   "id": "479008da",
   "metadata": {},
   "outputs": [
    {
     "data": {
      "image/png": "[encoded data removed]",
      "text/plain": [
       "<Figure size 800x500 with 1 Axes>"
      ]
     },
     "metadata": {},
     "output_type": "display_data"
    }
   ],
   "source": [
    "plt.figure(figsize=(8,5))\n",
    "top_10_locations.plot(kind=\"bar\", color=\"tomato\")\n",
    "plt.title(\"En Çok İlan Bulunan 10 Lokasyon\")\n",
    "plt.ylabel(\"Lokasyon\")\n",
    "plt.xlabel(\"ilan Sayısı \")\n",
    "plt.xticks(rotation=30)\n",
    "plt.tight_layout()\n",
    "plt.show()"
   ]
  }
 ],
 "metadata": {
  "kernelspec": {
   "display_name": "Python 3",
   "language": "python",
   "name": "python3"
  },
  "language_info": {
   "codemirror_mode": {
    "name": "ipython",
    "version": 3
   },
   "file_extension": ".py",
   "mimetype": "text/x-python",
   "name": "python",
   "nbconvert_exporter": "python",
   "pygments_lexer": "ipython3",
   "version": "3.11.11"
  }
 },
 "nbformat": 4,
 "nbformat_minor": 5
}
