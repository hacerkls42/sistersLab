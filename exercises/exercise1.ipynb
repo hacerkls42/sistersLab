{
 "cells": [
  {
   "cell_type": "markdown",
   "id": "74e02642",
   "metadata": {},
   "source": [
    "## Exercise 1"
   ]
  },
  {
   "cell_type": "markdown",
   "id": "5fb85c5e",
   "metadata": {},
   "source": [
    "#### Question 1:\n",
    "Write a function that receives a list as parameter and return how many elements it has; if it doesn't have any element return an error."
   ]
  },
  {
   "cell_type": "markdown",
   "id": "e0bc596b",
   "metadata": {},
   "source": [
    "#### Answer 1:"
   ]
  },
  {
   "cell_type": "code",
   "execution_count": null,
   "id": "bd94655f",
   "metadata": {},
   "outputs": [
    {
     "name": "stdout",
     "output_type": "stream",
     "text": [
      "Listede 12 eleman var.\n"
     ]
    }
   ],
   "source": [
    "lst = [1, 4, 5, 7, 7, 8, 15, 16, 25, 29, 35, 72]\n",
    "\n",
    "\n",
    "def eleman_sayisi(lst):\n",
    "    if len(lst) == 0:\n",
    "        print(\"Liste boş!\")\n",
    "    else:\n",
    "        print(f\"Listede {len(lst)} eleman var.\")\n",
    "\n",
    "\n",
    "eleman_sayisi(lst)    \n",
    "\n",
    "# elle olusturdugum bir listenin uzunluguna bakıyor eğer liste boş işe liste bos mesajı veriyor \n",
    "# listede eleman varsa la. eleman oldugunu sayıp listede ..  eleman var mesajı veriyor"
   ]
  },
  {
   "cell_type": "code",
   "execution_count": 6,
   "id": "dbe60cf1",
   "metadata": {},
   "outputs": [
    {
     "name": "stdout",
     "output_type": "stream",
     "text": [
      "Listede 5 eleman var.\n"
     ]
    }
   ],
   "source": [
    "# Kullanıcıdan verileri virgül ile ayırarak girmesini istiyoruz\n",
    "girdi = input(\"Lütfen listenin elemanlarını virgül ile ayırarak giriniz: \")\n",
    "\n",
    "# Girilen stringi böleriz ve her bir elemanı int’e çevirerek liste oluştururuz\n",
    "if girdi.strip() == \"\":\n",
    "    lst = []\n",
    "else:\n",
    "    lst = [int(x.strip()) for x in girdi.split(\",\")]\n",
    "\n",
    "def eleman_sayisi(lst):\n",
    "    if len(lst) == 0:\n",
    "        print(\"Liste boş!\")\n",
    "    else:\n",
    "        print(f\"Listede {len(lst)} eleman var.\")\n",
    "\n",
    "eleman_sayisi(lst)\n",
    "\n",
    "#olusan listede eleman varsa eleman sayısını eleman yoksa da liste boş mesajını veriyor "
   ]
  },
  {
   "cell_type": "markdown",
   "id": "50eb6779",
   "metadata": {},
   "source": [
    "#### Question 2:\n",
    "Write a function that builds a character‑count dict from a string, with an option to ignore case."
   ]
  },
  {
   "cell_type": "markdown",
   "id": "862eb2c2",
   "metadata": {},
   "source": [
    "#### Answer 2:"
   ]
  },
  {
   "cell_type": "code",
   "execution_count": 8,
   "id": "efd8d341",
   "metadata": {},
   "outputs": [
    {
     "name": "stdout",
     "output_type": "stream",
     "text": [
      "Duyarlı sonuç: {'V': 1, 'e': 1, 'r': 1, 'i': 7, 'B': 1, 'l': 1, 'm': 2, 'E': 1, 'ğ': 1, 't': 1}\n",
      "Duyarsız sonuç: {'v': 1, 'e': 2, 'r': 1, 'i': 7, 'b': 1, 'l': 1, 'm': 2, 'ğ': 1, 't': 1}\n"
     ]
    }
   ],
   "source": [
    "metin = \"VeriBilimiEğitimi\"  # Üzerinde işlem yapılacak metin\n",
    "\n",
    "def karakter_sayaci(metin, buyuk_kucuk_duyarli=True):\n",
    "   \n",
    "    if not buyuk_kucuk_duyarli: \n",
    "        metin = metin.lower()\n",
    "    \n",
    "    sayac = {}  # Karakterleri ve sayısını tutacak boş sözlük oluştur\n",
    "    \n",
    "    for karakter in metin:  # Metindeki her karakteri sırayla kontrol et\n",
    "        if karakter in sayac:         # Eğer karakter sözlükte varsa\n",
    "            sayac[karakter] += 1      # Sayacını bir artır\n",
    "        else:                         # Eğer karakter ilk defa geliyorsa\n",
    "            sayac[karakter] = 1       # Sayacını 1 olarak başlat\n",
    "    return sayac                      # Sonuçta oluşan sözlüğü döndür\n",
    "\n",
    "\n",
    "\n",
    "# Büyük-küçük harf duyarlı şekilde fonksiyonu çağır\n",
    "sonuc_duyarli = karakter_sayaci(metin, buyuk_kucuk_duyarli=True)\n",
    "print(\"Duyarlı sonuç:\", sonuc_duyarli)  # Sonucu ekrana yazdır\n",
    "\n",
    "# Büyük-küçük harf duyarsız şekilde fonksiyonu çağır\n",
    "sonuc_duyarsiz = karakter_sayaci(metin, buyuk_kucuk_duyarli=False)\n",
    "print(\"Duyarsız sonuç:\", sonuc_duyarsiz)  # Sonucu ekrana yazdır"
   ]
  },
  {
   "cell_type": "code",
   "execution_count": 11,
   "id": "135797b9",
   "metadata": {},
   "outputs": [
    {
     "name": "stdout",
     "output_type": "stream",
     "text": [
      "Duyarlı sonuç: {'n': 6, 'a': 1, 's': 3, 'ı': 3, 'l': 1, ' ': 3, 'C': 1, 'A': 1, 'm': 2, 'İ': 1, 'y': 1, 'i': 3}\n",
      "Duyarsız sonuç: {'n': 6, 'a': 2, 's': 3, 'ı': 3, 'l': 1, ' ': 3, 'c': 1, 'm': 2, 'i': 4, '̇': 1, 'y': 1}\n"
     ]
    }
   ],
   "source": [
    "# yukarıdaki koddaki metni kullanıcıdan istersek \n",
    "\n",
    "# Kullanıcıdan bir metin alıyoruz\n",
    "metin = input(\"Lütfen bir metin giriniz: \")\n",
    "\n",
    "def karakter_sayaci(metin, buyuk_kucuk_duyarli=True):\n",
    "    if not buyuk_kucuk_duyarli: \n",
    "        metin = metin.lower()\n",
    "    \n",
    "    sayac = {}  # Karakterleri ve sayısını tutacak boş sözlük oluştur\n",
    "    \n",
    "    for karakter in metin:  # Metindeki her karakteri sırayla kontrol et\n",
    "        if karakter in sayac:         # Eğer karakter sözlükte varsa\n",
    "            sayac[karakter] += 1      # Sayacını bir artır\n",
    "        else:                         # Eğer karakter ilk defa geliyorsa\n",
    "            sayac[karakter] = 1       # Sayacını 1 olarak başlat\n",
    "    return sayac                      # Sonuçta oluşan sözlüğü döndür\n",
    "\n",
    "# Büyük-küçük harf duyarlı şekilde fonksiyonu çağır\n",
    "sonuc_duyarli = karakter_sayaci(metin, buyuk_kucuk_duyarli=True)\n",
    "print(\"Duyarlı sonuç:\", sonuc_duyarli)  # Sonucu ekrana yazdır\n",
    "\n",
    "# Büyük-küçük harf duyarsız şekilde fonksiyonu çağır\n",
    "sonuc_duyarsiz = karakter_sayaci(metin, buyuk_kucuk_duyarli=False)\n",
    "print(\"Duyarsız sonuç:\", sonuc_duyarsiz)  # Sonucu ekrana yazdır"
   ]
  },
  {
   "cell_type": "markdown",
   "id": "a2ae4501",
   "metadata": {},
   "source": [
    "#### Question 3:\n",
    "Write a function that filters a list of numbers by a threshold and returns their squares"
   ]
  },
  {
   "cell_type": "markdown",
   "id": "25a2ba90",
   "metadata": {},
   "source": [
    "#### Answer 3:"
   ]
  },
  {
   "cell_type": "code",
   "execution_count": 12,
   "id": "723403ef",
   "metadata": {},
   "outputs": [
    {
     "name": "stdout",
     "output_type": "stream",
     "text": [
      "Eşik değerden büyük veya eşit olan sayıların kareleri: [25, 64, 81]\n"
     ]
    }
   ],
   "source": [
    "sayilar = [2, 5, 8, 1, 9]\n",
    "esik_deger = 5\n",
    "\n",
    "def esik_ve_kareleri(liste, esik):\n",
    "    \n",
    "    #Verilen listenin içinde, eşik değerden büyük veya eşit olan sayıların karelerini içeren bir liste döndürür.\n",
    "    \n",
    "    sonuc = []\n",
    "    for sayi in liste:\n",
    "        if sayi >= esik:  # Eğer sayı eşik veya daha büyükse\n",
    "            sonuc.append(sayi ** 2)  # Karesini alıp ekle\n",
    "    return sonuc\n",
    "\n",
    "sonuclar = esik_ve_kareleri(sayilar, esik_deger)\n",
    "\n",
    "print(\"Eşik değerden büyük veya eşit olan sayıların kareleri:\", sonuclar)"
   ]
  },
  {
   "cell_type": "code",
   "execution_count": 13,
   "id": "b6a20338",
   "metadata": {},
   "outputs": [
    {
     "name": "stdout",
     "output_type": "stream",
     "text": [
      "Eşik değerden büyük veya eşit sayıların kareleri: [36, 49, 64, 81]\n"
     ]
    }
   ],
   "source": [
    "#  Listeyi ve Eşit değerini  kullanıcıdan istersek;\n",
    "\n",
    "# Kullanıcıdan sayı listesi alınır\n",
    "sayi_girdisi = input(\"Lütfen sayıları aralarına virgül koyarak yazınız : \")\n",
    "# String ifadeyi sayılara dönüştür\n",
    "liste = [int(x.strip()) for x in sayi_girdisi.split(\",\")]\n",
    "\n",
    "# Kullanıcıdan eşik değeri alınır\n",
    "esik = int(input(\"Eşik (threshold) değerini giriniz: \"))\n",
    "\n",
    "def esik_ve_kareleri(liste, esik):\n",
    "    \n",
    "    #Verilen listenin içinde, eşik değerden büyük veya eşit olan sayıların karelerini içeren bir liste döndürür.\n",
    "    \n",
    "    sonuc = []\n",
    "    for sayi in liste:\n",
    "        if sayi >= esik:\n",
    "            sonuc.append(sayi ** 2)\n",
    "    return sonuc\n",
    "\n",
    "\n",
    "\n",
    "sonuclar = esik_ve_kareleri(liste, esik)\n",
    "print(\"Eşik değerden büyük veya eşit sayıların kareleri:\", sonuclar)\n",
    "\n"
   ]
  }
 ],
 "metadata": {
  "kernelspec": {
   "display_name": "Python 3",
   "language": "python",
   "name": "python3"
  },
  "language_info": {
   "codemirror_mode": {
    "name": "ipython",
    "version": 3
   },
   "file_extension": ".py",
   "mimetype": "text/x-python",
   "name": "python",
   "nbconvert_exporter": "python",
   "pygments_lexer": "ipython3",
   "version": "3.11.11"
  }
 },
 "nbformat": 4,
 "nbformat_minor": 5
}
