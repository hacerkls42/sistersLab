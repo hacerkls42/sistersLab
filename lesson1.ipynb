{
 "cells": [
  {
   "cell_type": "markdown",
   "id": "3de8b716",
   "metadata": {},
   "source": [
    "##python"
   ]
  },
  {
   "cell_type": "code",
   "execution_count": null,
   "id": "dab9c74f",
   "metadata": {
    "vscode": {
     "languageId": "plaintext"
    }
   },
   "outputs": [],
   "source": [
    "asdgfbtb"
   ]
  }
 ],
 "metadata": {
  "language_info": {
   "name": "python"
  }
 },
 "nbformat": 4,
 "nbformat_minor": 5
}
